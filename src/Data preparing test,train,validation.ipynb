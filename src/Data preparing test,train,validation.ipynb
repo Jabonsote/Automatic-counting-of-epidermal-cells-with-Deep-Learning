{
 "cells": [
  {
   "cell_type": "markdown",
   "id": "e083832c-e388-41e1-b676-1c1497c31922",
   "metadata": {
    "jp-MarkdownHeadingCollapsed": true
   },
   "source": [
    "# Prepare dataset"
   ]
  },
  {
   "cell_type": "markdown",
   "id": "ebdd949b-6b67-406d-a25d-772daa476432",
   "metadata": {
    "jp-MarkdownHeadingCollapsed": true
   },
   "source": [
    "## Solo dividir imagenes"
   ]
  },
  {
   "cell_type": "code",
   "execution_count": 4,
   "id": "e6f65c29-8814-4fd2-8f99-a7471217d920",
   "metadata": {},
   "outputs": [
    {
     "name": "stdout",
     "output_type": "stream",
     "text": [
      "División completada: 54 imágenes para entrenamiento, 6 imágenes para validación, 8 imágenes para prueba.\n"
     ]
    }
   ],
   "source": [
    "import os\n",
    "import json\n",
    "import random\n",
    "from shutil import copyfile\n",
    "\n",
    "# Ruta de la carpeta que contiene las imágenes\n",
    "ruta_imagenes = './images'\n",
    "\n",
    "# Ruta del archivo COCO con las anotaciones\n",
    "ruta_anotaciones = './coco.json'\n",
    "\n",
    "# Ruta para almacenar los conjuntos divididos\n",
    "ruta_destino = './dataset'\n",
    "\n",
    "# Porcentaje de división\n",
    "porcentaje_entrenamiento = 80\n",
    "porcentaje_validacion = 10\n",
    "porcentaje_prueba = 10\n",
    "\n",
    "# Crear carpetas de destino si no existen\n",
    "for carpeta in ['entrenamiento', 'validacion', 'prueba']:\n",
    "    carpeta_destino = os.path.join(ruta_destino, carpeta)\n",
    "    os.makedirs(carpeta_destino, exist_ok=True)\n",
    "\n",
    "# Cargar anotaciones COCO\n",
    "with open(ruta_anotaciones, 'r') as f:\n",
    "    data = json.load(f)\n",
    "\n",
    "# Obtener lista de imágenes\n",
    "imagenes = data['images']\n",
    "total_imagenes = len(imagenes)\n",
    "\n",
    "# Calcular cantidad de imágenes para cada conjunto\n",
    "cantidad_entrenamiento = int(total_imagenes * (porcentaje_entrenamiento / 100))\n",
    "cantidad_validacion = int(total_imagenes * (porcentaje_validacion / 100))\n",
    "cantidad_prueba = total_imagenes - cantidad_entrenamiento - cantidad_validacion\n",
    "\n",
    "# Mezclar aleatoriamente la lista de imágenes\n",
    "random.shuffle(imagenes)\n",
    "\n",
    "# Dividir las imágenes en conjuntos\n",
    "conjunto_entrenamiento = imagenes[:cantidad_entrenamiento]\n",
    "conjunto_validacion = imagenes[cantidad_entrenamiento: cantidad_entrenamiento + cantidad_validacion]\n",
    "conjunto_prueba = imagenes[cantidad_entrenamiento + cantidad_validacion:]\n",
    "\n",
    "# Función para copiar archivos a las carpetas de destino\n",
    "def copiar_archivos(conjunto, carpeta_destino):\n",
    "    for imagen in conjunto:\n",
    "        nombre_imagen = imagen['file_name']\n",
    "        ruta_imagen_origen = os.path.join(ruta_imagenes, nombre_imagen)\n",
    "        ruta_imagen_destino = os.path.join(carpeta_destino, nombre_imagen)\n",
    "        copyfile(ruta_imagen_origen, ruta_imagen_destino)\n",
    "\n",
    "# Copiar archivos a las carpetas de destino\n",
    "copiar_archivos(conjunto_entrenamiento, os.path.join(ruta_destino, 'entrenamiento'))\n",
    "copiar_archivos(conjunto_validacion, os.path.join(ruta_destino, 'validacion'))\n",
    "copiar_archivos(conjunto_prueba, os.path.join(ruta_destino, 'prueba'))\n",
    "\n",
    "print(f'División completada: {cantidad_entrenamiento} imágenes para entrenamiento, {cantidad_validacion} imágenes para validación, {cantidad_prueba} imágenes para prueba.')\n"
   ]
  },
  {
   "cell_type": "markdown",
   "id": "4949e8f2-06ec-4d18-a793-360ff4ed5a2b",
   "metadata": {
    "jp-MarkdownHeadingCollapsed": true
   },
   "source": [
    "# Dividir image + JSON file"
   ]
  },
  {
   "cell_type": "code",
   "execution_count": 6,
   "id": "c6bac610-f785-4857-81f3-dc3d427a438c",
   "metadata": {},
   "outputs": [
    {
     "name": "stdout",
     "output_type": "stream",
     "text": [
      "División completada: 54 imágenes para entrenamiento, 6 imágenes para validación, 8 imágenes para prueba.\n"
     ]
    }
   ],
   "source": [
    "import os\n",
    "import json\n",
    "import random\n",
    "from shutil import copyfile\n",
    "\n",
    "# Ruta de la carpeta que contiene las imágenes\n",
    "ruta_imagenes = './images'\n",
    "\n",
    "# Ruta del archivo COCO con las anotaciones\n",
    "ruta_anotaciones = './coco.json'\n",
    "\n",
    "# Ruta para almacenar los conjuntos divididos\n",
    "ruta_destino = './dataset'\n",
    "\n",
    "# Porcentaje de división\n",
    "porcentaje_entrenamiento = 80\n",
    "porcentaje_validacion = 10\n",
    "porcentaje_prueba = 10\n",
    "\n",
    "# Crear carpetas de destino si no existen\n",
    "for carpeta in ['entrenamiento', 'validacion', 'prueba']:\n",
    "    carpeta_destino = os.path.join(ruta_destino, carpeta)\n",
    "    os.makedirs(carpeta_destino, exist_ok=True)\n",
    "\n",
    "# Cargar anotaciones COCO\n",
    "with open(ruta_anotaciones, 'r') as f:\n",
    "    data = json.load(f)\n",
    "\n",
    "# Obtener lista de imágenes\n",
    "imagenes = data['images']\n",
    "total_imagenes = len(imagenes)\n",
    "\n",
    "# Calcular cantidad de imágenes para cada conjunto\n",
    "cantidad_entrenamiento = int(total_imagenes * (porcentaje_entrenamiento / 100))\n",
    "cantidad_validacion = int(total_imagenes * (porcentaje_validacion / 100))\n",
    "cantidad_prueba = total_imagenes - cantidad_entrenamiento - cantidad_validacion\n",
    "\n",
    "# Mezclar aleatoriamente la lista de imágenes\n",
    "random.shuffle(imagenes)\n",
    "\n",
    "# Dividir las imágenes y las anotaciones en conjuntos\n",
    "conjunto_entrenamiento = imagenes[:cantidad_entrenamiento]\n",
    "conjunto_validacion = imagenes[cantidad_entrenamiento: cantidad_entrenamiento + cantidad_validacion]\n",
    "conjunto_prueba = imagenes[cantidad_entrenamiento + cantidad_validacion:]\n",
    "\n",
    "def copiar_archivos_y_anotaciones(conjunto, carpeta_destino):\n",
    "    anotaciones = {'images': [], 'annotations': [], 'categories': data['categories']}\n",
    "    \n",
    "    for imagen in conjunto:\n",
    "        nombre_imagen = imagen['file_name']\n",
    "        ruta_imagen_origen = os.path.join(ruta_imagenes, nombre_imagen)\n",
    "        ruta_imagen_destino = os.path.join(carpeta_destino, nombre_imagen)\n",
    "        copyfile(ruta_imagen_origen, ruta_imagen_destino)\n",
    "\n",
    "        # Añadir la imagen a las anotaciones\n",
    "        anotaciones['images'].append(imagen)\n",
    "\n",
    "        # Añadir las anotaciones asociadas a la imagen\n",
    "        image_id = imagen['id']\n",
    "        anotaciones['annotations'].extend([anno for anno in data['annotations'] if anno['image_id'] == image_id])\n",
    "\n",
    "    # Guardar anotaciones en un archivo JSON\n",
    "    ruta_json = os.path.join(carpeta_destino, f'coco_annotation_{carpeta.lower()}.json')\n",
    "    with open(ruta_json, 'w') as f:\n",
    "        json.dump(anotaciones, f)\n",
    "\n",
    "# Copiar archivos y anotaciones a las carpetas de destino\n",
    "copiar_archivos_y_anotaciones(conjunto_entrenamiento, os.path.join(ruta_destino, 'entrenamiento'))\n",
    "copiar_archivos_y_anotaciones(conjunto_validacion, os.path.join(ruta_destino, 'validacion'))\n",
    "copiar_archivos_y_anotaciones(conjunto_prueba, os.path.join(ruta_destino, 'prueba'))\n",
    "\n",
    "print(f'División completada: {cantidad_entrenamiento} imágenes para entrenamiento, {cantidad_validacion} imágenes para validación, {cantidad_prueba} imágenes para prueba.')\n"
   ]
  }
 ],
 "metadata": {
  "kernelspec": {
   "display_name": "Python 3 (ipykernel)",
   "language": "python",
   "name": "python3"
  },
  "language_info": {
   "codemirror_mode": {
    "name": "ipython",
    "version": 3
   },
   "file_extension": ".py",
   "mimetype": "text/x-python",
   "name": "python",
   "nbconvert_exporter": "python",
   "pygments_lexer": "ipython3",
   "version": "3.10.12"
  }
 },
 "nbformat": 4,
 "nbformat_minor": 5
}
