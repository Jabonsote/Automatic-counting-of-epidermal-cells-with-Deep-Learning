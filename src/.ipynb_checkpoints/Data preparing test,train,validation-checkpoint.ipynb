{
 "cells": [
  {
   "cell_type": "markdown",
   "id": "e083832c-e388-41e1-b676-1c1497c31922",
   "metadata": {},
   "source": [
    "# Prepare dataset"
   ]
  },
  {
   "cell_type": "code",
   "execution_count": 10,
   "id": "e6f65c29-8814-4fd2-8f99-a7471217d920",
   "metadata": {},
   "outputs": [
    {
     "ename": "FileNotFoundError",
     "evalue": "[Errno 2] No such file or directory: '/src/coco.json'",
     "output_type": "error",
     "traceback": [
      "\u001b[0;31m---------------------------------------------------------------------------\u001b[0m",
      "\u001b[0;31mFileNotFoundError\u001b[0m                         Traceback (most recent call last)",
      "Cell \u001b[0;32mIn[10], line 26\u001b[0m\n\u001b[1;32m     23\u001b[0m     os\u001b[38;5;241m.\u001b[39mmakedirs(carpeta_destino, exist_ok\u001b[38;5;241m=\u001b[39m\u001b[38;5;28;01mTrue\u001b[39;00m)\n\u001b[1;32m     25\u001b[0m \u001b[38;5;66;03m# Cargar anotaciones COCO\u001b[39;00m\n\u001b[0;32m---> 26\u001b[0m \u001b[38;5;28;01mwith\u001b[39;00m \u001b[38;5;28;43mopen\u001b[39;49m\u001b[43m(\u001b[49m\u001b[43mruta_anotaciones\u001b[49m\u001b[43m,\u001b[49m\u001b[43m \u001b[49m\u001b[38;5;124;43m'\u001b[39;49m\u001b[38;5;124;43mr\u001b[39;49m\u001b[38;5;124;43m'\u001b[39;49m\u001b[43m)\u001b[49m \u001b[38;5;28;01mas\u001b[39;00m f:\n\u001b[1;32m     27\u001b[0m     data \u001b[38;5;241m=\u001b[39m json\u001b[38;5;241m.\u001b[39mload(f)\n\u001b[1;32m     29\u001b[0m \u001b[38;5;66;03m# Obtener lista de imágenes\u001b[39;00m\n",
      "File \u001b[0;32m~/venv/lib/python3.10/site-packages/IPython/core/interactiveshell.py:284\u001b[0m, in \u001b[0;36m_modified_open\u001b[0;34m(file, *args, **kwargs)\u001b[0m\n\u001b[1;32m    277\u001b[0m \u001b[38;5;28;01mif\u001b[39;00m file \u001b[38;5;129;01min\u001b[39;00m {\u001b[38;5;241m0\u001b[39m, \u001b[38;5;241m1\u001b[39m, \u001b[38;5;241m2\u001b[39m}:\n\u001b[1;32m    278\u001b[0m     \u001b[38;5;28;01mraise\u001b[39;00m \u001b[38;5;167;01mValueError\u001b[39;00m(\n\u001b[1;32m    279\u001b[0m         \u001b[38;5;124mf\u001b[39m\u001b[38;5;124m\"\u001b[39m\u001b[38;5;124mIPython won\u001b[39m\u001b[38;5;124m'\u001b[39m\u001b[38;5;124mt let you open fd=\u001b[39m\u001b[38;5;132;01m{\u001b[39;00mfile\u001b[38;5;132;01m}\u001b[39;00m\u001b[38;5;124m by default \u001b[39m\u001b[38;5;124m\"\u001b[39m\n\u001b[1;32m    280\u001b[0m         \u001b[38;5;124m\"\u001b[39m\u001b[38;5;124mas it is likely to crash IPython. If you know what you are doing, \u001b[39m\u001b[38;5;124m\"\u001b[39m\n\u001b[1;32m    281\u001b[0m         \u001b[38;5;124m\"\u001b[39m\u001b[38;5;124myou can use builtins\u001b[39m\u001b[38;5;124m'\u001b[39m\u001b[38;5;124m open.\u001b[39m\u001b[38;5;124m\"\u001b[39m\n\u001b[1;32m    282\u001b[0m     )\n\u001b[0;32m--> 284\u001b[0m \u001b[38;5;28;01mreturn\u001b[39;00m \u001b[43mio_open\u001b[49m\u001b[43m(\u001b[49m\u001b[43mfile\u001b[49m\u001b[43m,\u001b[49m\u001b[43m \u001b[49m\u001b[38;5;241;43m*\u001b[39;49m\u001b[43margs\u001b[49m\u001b[43m,\u001b[49m\u001b[43m \u001b[49m\u001b[38;5;241;43m*\u001b[39;49m\u001b[38;5;241;43m*\u001b[39;49m\u001b[43mkwargs\u001b[49m\u001b[43m)\u001b[49m\n",
      "\u001b[0;31mFileNotFoundError\u001b[0m: [Errno 2] No such file or directory: '/src/coco.json'"
     ]
    }
   ],
   "source": [
    "import os\n",
    "import json\n",
    "import random\n",
    "from shutil import copyfile\n",
    "\n",
    "# Ruta de la carpeta que contiene las imágenes\n",
    "ruta_imagenes = 'Automatic-counting-of-epidermal-cells-with-Deep-Learning/src/images'\n",
    "\n",
    "# Ruta del archivo COCO con las anotaciones\n",
    "ruta_anotaciones = '/src/coco.json'\n",
    "\n",
    "# Ruta para almacenar los conjuntos divididos\n",
    "ruta_destino = 'Escritorio/Automatic-counting-of-epidermal-cells-with-Deep-Learning/src/dataset'\n",
    "\n",
    "# Porcentaje de división\n",
    "porcentaje_entrenamiento = 80\n",
    "porcentaje_validacion = 10\n",
    "porcentaje_prueba = 10\n",
    "\n",
    "# Crear carpetas de destino si no existen\n",
    "for carpeta in ['entrenamiento', 'validacion', 'prueba']:\n",
    "    carpeta_destino = os.path.join(ruta_destino, carpeta)\n",
    "    os.makedirs(carpeta_destino, exist_ok=True)\n",
    "\n",
    "# Cargar anotaciones COCO\n",
    "with open(ruta_anotaciones, 'r') as f:\n",
    "    data = json.load(f)\n",
    "\n",
    "# Obtener lista de imágenes\n",
    "imagenes = data['images']\n",
    "total_imagenes = len(imagenes)\n",
    "\n",
    "# Calcular cantidad de imágenes para cada conjunto\n",
    "cantidad_entrenamiento = int(total_imagenes * (porcentaje_entrenamiento / 100))\n",
    "cantidad_validacion = int(total_imagenes * (porcentaje_validacion / 100))\n",
    "cantidad_prueba = total_imagenes - cantidad_entrenamiento - cantidad_validacion\n",
    "\n",
    "# Mezclar aleatoriamente la lista de imágenes\n",
    "random.shuffle(imagenes)\n",
    "\n",
    "# Dividir las imágenes en conjuntos\n",
    "conjunto_entrenamiento = imagenes[:cantidad_entrenamiento]\n",
    "conjunto_validacion = imagenes[cantidad_entrenamiento: cantidad_entrenamiento + cantidad_validacion]\n",
    "conjunto_prueba = imagenes[cantidad_entrenamiento + cantidad_validacion:]\n",
    "\n",
    "# Función para copiar archivos a las carpetas de destino\n",
    "def copiar_archivos(conjunto, carpeta_destino):\n",
    "    for imagen in conjunto:\n",
    "        nombre_imagen = imagen['file_name']\n",
    "        ruta_imagen_origen = os.path.join(ruta_imagenes, nombre_imagen)\n",
    "        ruta_imagen_destino = os.path.join(carpeta_destino, nombre_imagen)\n",
    "        copyfile(ruta_imagen_origen, ruta_imagen_destino)\n",
    "\n",
    "# Copiar archivos a las carpetas de destino\n",
    "copiar_archivos(conjunto_entrenamiento, os.path.join(ruta_destino, 'entrenamiento'))\n",
    "copiar_archivos(conjunto_validacion, os.path.join(ruta_destino, 'validacion'))\n",
    "copiar_archivos(conjunto_prueba, os.path.join(ruta_destino, 'prueba'))\n",
    "\n",
    "print(f'División completada: {cantidad_entrenamiento} imágenes para entrenamiento, {cantidad_validacion} imágenes para validación, {cantidad_prueba} imágenes para prueba.')\n"
   ]
  },
  {
   "cell_type": "code",
   "execution_count": null,
   "id": "f3c46894-fd54-4b73-9db7-924e2283b812",
   "metadata": {},
   "outputs": [],
   "source": []
  }
 ],
 "metadata": {
  "kernelspec": {
   "display_name": "Python 3 (ipykernel)",
   "language": "python",
   "name": "python3"
  },
  "language_info": {
   "codemirror_mode": {
    "name": "ipython",
    "version": 3
   },
   "file_extension": ".py",
   "mimetype": "text/x-python",
   "name": "python",
   "nbconvert_exporter": "python",
   "pygments_lexer": "ipython3",
   "version": "3.10.12"
  }
 },
 "nbformat": 4,
 "nbformat_minor": 5
}
