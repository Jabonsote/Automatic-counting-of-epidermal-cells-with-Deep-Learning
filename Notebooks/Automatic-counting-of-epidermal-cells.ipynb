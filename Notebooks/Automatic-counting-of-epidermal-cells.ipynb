{
 "cells": [
  {
   "cell_type": "markdown",
   "id": "1e11aff2-fc2e-44a0-969d-0df7cf4e4995",
   "metadata": {},
   "source": [
    "# Pytorch y Datectron2"
   ]
  },
  {
   "cell_type": "code",
   "execution_count": 1,
   "id": "91577ec1-6a70-40a0-abce-d5830967555e",
   "metadata": {},
   "outputs": [
    {
     "data": {
      "text/plain": [
       "'2.0.1+cu117'"
      ]
     },
     "execution_count": 1,
     "metadata": {},
     "output_type": "execute_result"
    }
   ],
   "source": [
    "import torch\n",
    "torch.__version__"
   ]
  },
  {
   "cell_type": "code",
   "execution_count": null,
   "id": "5f5b39a7-71bc-40da-af60-224c6cbecca6",
   "metadata": {},
   "outputs": [],
   "source": [
    "#!python -m pip install 'git+https://github.com/facebookresearch/detectron2.git'\n",
    "#!python install pytorch torchvision torchaudio pytorch-cuda=11.7 -c pytorch -c nvidia"
   ]
  },
  {
   "cell_type": "markdown",
   "id": "2217a3b6-6c5a-429f-92bd-572d8045524c",
   "metadata": {},
   "source": [
    "## Librerias"
   ]
  },
  {
   "cell_type": "code",
   "execution_count": 2,
   "id": "f6e1aa06-74e9-46fa-ac85-d83fd0e9c84b",
   "metadata": {},
   "outputs": [],
   "source": [
    "from detectron2.utils.logger import setup_logger\n",
    "logger = setup_logger()\n",
    "from detectron2.data.datasets import register_coco_instances\n",
    "\n",
    "from detectron2.utils.visualizer import Visualizer\n",
    "from detectron2.data import MetadataCatalog, DatasetCatalog\n",
    "\n",
    "from detectron2.engine import DefaultTrainer, DefaultPredictor\n",
    "from detectron2.config import CfgNode as CN\n",
    "\n",
    "from tqdm import tqdm\n",
    "import os\n",
    "import torch\n",
    "from torch.utils.data import Dataset, DataLoader\n",
    "from detectron2.config import get_cfg\n",
    "from detectron2 import model_zoo\n",
    "import pickle\n",
    "import matplotlib.pyplot as plt\n",
    "import random\n",
    "import cv2"
   ]
  },
  {
   "cell_type": "code",
   "execution_count": 3,
   "id": "0148cfdf-b802-4b7f-9005-da212031578b",
   "metadata": {},
   "outputs": [],
   "source": [
    "import warnings\n",
    "warnings.simplefilter(action='ignore', category=UserWarning)"
   ]
  },
  {
   "cell_type": "code",
   "execution_count": null,
   "id": "168b1b87-5e97-453e-b580-020a895aebfc",
   "metadata": {},
   "outputs": [],
   "source": []
  }
 ],
 "metadata": {
  "kernelspec": {
   "display_name": "Python 3 (ipykernel)",
   "language": "python",
   "name": "python3"
  },
  "language_info": {
   "codemirror_mode": {
    "name": "ipython",
    "version": 3
   },
   "file_extension": ".py",
   "mimetype": "text/x-python",
   "name": "python",
   "nbconvert_exporter": "python",
   "pygments_lexer": "ipython3",
   "version": "3.10.12"
  }
 },
 "nbformat": 4,
 "nbformat_minor": 5
}
